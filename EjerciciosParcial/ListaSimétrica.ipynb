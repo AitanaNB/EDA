{
 "cells": [
  {
   "cell_type": "markdown",
   "metadata": {},
   "source": [
    "Lista simétrica"
   ]
  },
  {
   "cell_type": "code",
   "execution_count": 81,
   "metadata": {
    "vscode": {
     "languageId": "java"
    }
   },
   "outputs": [],
   "source": [
    "public class Node<T> {\n",
    "    T data;\n",
    "    Node<T> next;\n",
    "}\n",
    "\n",
    "public class DoubleNode<T> {\n",
    "    T data;\n",
    "    DoubleNode<T> next;\n",
    "    DoubleNode<T> prev;\n",
    "\n",
    "    public DoubleNode(T data) {\n",
    "        this.data = data;\n",
    "    }\n",
    "}\n",
    "\n",
    "public class SimpleLinkedList {\n",
    "    Node<Integer> first;\n",
    "}\n",
    "\n",
    "public class MiDoubleLinkedList {\n",
    "    // Lista circular doblemente enlazada\n",
    "    DoubleNode<Integer> first;\n",
    "\n",
    "    public void obtenerListaSimetrica(SimpleLinkedList l) {\n",
    "        Node<Integer> actual = l.first;\n",
    "        MiDoubleLinkedList listaNueva = new MiDoubleLinkedList();\n",
    "        DoubleNode<Integer> ultimo = null;\n",
    "\n",
    "        // Crear la lista de positivos\n",
    "        while (actual != null) \n",
    "        {\n",
    "            Integer dato = actual.data;\n",
    "            DoubleNode<Integer> nuevo = new DoubleNode<>(dato);\n",
    "\n",
    "            if (listaNueva.first == null) { // si no hay primer nodo\n",
    "                listaNueva.first = nuevo;\n",
    "                ultimo = nuevo;\n",
    "            } else {\n",
    "                ultimo.next = nuevo;\n",
    "                nuevo.prev = ultimo;\n",
    "                ultimo = nuevo; // Actualizar el último\n",
    "            }\n",
    "            actual = actual.next; // Avanzar al siguiente nodo\n",
    "        } \n",
    "\n",
    "        // Recorrer hacia atrás y agregar los negativos, empezando desde el first\n",
    "        actual = l.first;\n",
    "        DoubleNode<Integer> ultimo2 = listaNueva.first; //inicializar el ultimo al principio xa ir hacia atrás\n",
    "       // Crear la lista de negativos\n",
    "       while (actual != null) \n",
    "       {\n",
    "        Integer datoNeg = -actual.data;\n",
    "        DoubleNode<Integer> nuevoNeg = new DoubleNode<>(datoNeg);\n",
    "\n",
    "        ultimo2.prev=nuevoNeg;\n",
    "        nuevoNeg.next=ultimo2;\n",
    "        listaNueva.first=nuevoNeg;\n",
    "        ultimo2=nuevoNeg;\n",
    "        actual=actual.next;\n",
    "       }\n",
    "     \n",
    "        // Hacer la lista circular\n",
    "        ultimo.next = listaNueva.first; // Enlazar último con el primero\n",
    "        listaNueva.first.prev = ultimo; // Enlazar primero con el último\n",
    "\n",
    "        this.first = listaNueva.first; // Actualizar el primer nodo de esta lista\n",
    "    }\n",
    "\n",
    "    public void imprimir() {\n",
    "        if (first == null) {\n",
    "            System.out.println(\"La lista está vacía.\");\n",
    "        } else {\n",
    "            DoubleNode<Integer> actual = first;\n",
    "            do {\n",
    "                System.out.print(actual.data + \" \");\n",
    "                actual = actual.next;\n",
    "            } while (actual != first);\n",
    "            System.out.println();\n",
    "        }\n",
    "    }\n",
    "}\n"
   ]
  },
  {
   "cell_type": "code",
   "execution_count": 82,
   "metadata": {
    "vscode": {
     "languageId": "java"
    }
   },
   "outputs": [
    {
     "name": "stdout",
     "output_type": "stream",
     "text": [
      "-1 -4 -3 -8 8 3 4 1 \n"
     ]
    }
   ],
   "source": [
    "// Caso de prueba\n",
    "SimpleLinkedList listaSimple = new SimpleLinkedList();\n",
    "Node<Integer> nodo1 = new Node<>();\n",
    "nodo1.data = 8;\n",
    "Node<Integer> nodo2 = new Node<>();\n",
    "nodo2.data = 3;\n",
    "Node<Integer> nodo3 = new Node<>();\n",
    "nodo3.data = 4;\n",
    "Node<Integer> nodo4 = new Node<>();\n",
    "nodo4.data = 1;\n",
    "\n",
    "// Enlazar nodos\n",
    "listaSimple.first = nodo1;\n",
    "nodo1.next = nodo2;\n",
    "nodo2.next = nodo3;\n",
    "nodo3.next = nodo4;\n",
    "nodo4.next = null; // Fin de la lista\n",
    "\n",
    "// Crear la lista doblemente enlazada y obtener la simétrica\n",
    "MiDoubleLinkedList listaDoble = new MiDoubleLinkedList();\n",
    "listaDoble.obtenerListaSimetrica(listaSimple);\n",
    "\n",
    "// Imprimir la lista resultante\n",
    "listaDoble.imprimir();\n"
   ]
  }
 ],
 "metadata": {
  "kernelspec": {
   "display_name": "Java",
   "language": "java",
   "name": "java"
  },
  "language_info": {
   "codemirror_mode": "java",
   "file_extension": ".jshell",
   "mimetype": "text/x-java-source",
   "name": "Java",
   "pygments_lexer": "java",
   "version": "23.0.1+11-39"
  }
 },
 "nbformat": 4,
 "nbformat_minor": 2
}

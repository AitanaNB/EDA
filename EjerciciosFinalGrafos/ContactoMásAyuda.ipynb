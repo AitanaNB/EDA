{
 "cells": [
  {
   "cell_type": "markdown",
   "metadata": {},
   "source": [
    "El contacto que más puede ayudar"
   ]
  },
  {
   "cell_type": "code",
   "execution_count": 42,
   "metadata": {},
   "outputs": [],
   "source": [
    "public class RedDeContactos \n",
    "{\n",
    "    private boolean[][] adjMatrix={  //adjacency matrix\n",
    "    {false, false, true, false}, //0-2\n",
    "    {false, false, false, false},//1\n",
    "    {false, true, false, false},//2-1\n",
    "    {true, true, false, false}};//3-0+1\n",
    "\n",
    "    public int elQueMasPuedeAyudar(ArrayList<Integer> personas)\n",
    "    {\n",
    "        int rdo=0; //persona que más ayuda\n",
    "        int max=0; //valor máx\n",
    "        int [] numVeces= new int [adjMatrix[0].length]; //lista de veces de cada uno\n",
    "        int n= adjMatrix[0].length;//tamaño\n",
    "\n",
    "        // Itera sobre cada persona en la lista de personas que necesitan un trasplante\n",
    "        for(int i=0; i<personas.size(); i++)\n",
    "        {\n",
    "            int transplante = personas.get(i); // Persona que necesita el trasplante\n",
    "            boolean[] examinados = new boolean[n];\n",
    "            \n",
    "            Queue <Integer> porEx= new LinkedList<>(); //cola xa búsqueda anchura\n",
    "\n",
    "            porEx.offer(transplante);// Comienza con la persona que necesita el trasplante\n",
    "            examinados[transplante]=true;// Marca la persona como visitada\n",
    "\n",
    "            while(!porEx.isEmpty())\n",
    "            {\n",
    "                int act= porEx.poll();\n",
    "                for(int j=0; j<n; j++)\n",
    "                {   // Si hay una conexión y la persona aún no ha sido examinada\n",
    "                    if(adjMatrix[act][j] && !examinados[j] && !personas.contains(j))\n",
    "                    {\n",
    "                        numVeces[j]++;\n",
    "                        examinados[j]=true;\n",
    "                        porEx.offer(j);\n",
    "\n",
    "                        if( numVeces[j]>max)\n",
    "                        {\n",
    "                            rdo=j;\n",
    "                        }\n",
    "                    }\n",
    "                }\n",
    "            }\n",
    "        }\n",
    "        for (int i = 0; i < numVeces.length; i++) {\n",
    "            System.out.println(numVeces[i]);\n",
    "            //if (numVeces[i] > rdo) {\n",
    "           //      rdo = numVeces[i]; // Actualiza el máximo\n",
    "            //}\n",
    "            \n",
    "        }\n",
    "        System.out.println(\"\");\n",
    "        return rdo;\n",
    "\n",
    "    }\n",
    "\n",
    "    private boolean sonCompatibles(Integer p1, Integer p2)\n",
    "    {\n",
    "    //POST: Devuelve si p1 y p2 son compatibles. NO HAY QUE IMPLEMENTARLA\n",
    "        return true;\n",
    "    }\n",
    "}\n"
   ]
  },
  {
   "cell_type": "code",
   "execution_count": 43,
   "metadata": {},
   "outputs": [
    {
     "name": "stdout",
     "output_type": "stream",
     "text": [
      "\n",
      "1\n",
      "2\n",
      "0\n",
      "0\n",
      "\n",
      "1\n"
     ]
    }
   ],
   "source": [
    "RedDeContactos red= new RedDeContactos();\n",
    "ArrayList<Integer> lista = new ArrayList<>();\n",
    "lista.add(2);\n",
    "lista.add(3);\n",
    "System.out.println(\"\");\n",
    "System.out.println( red.elQueMasPuedeAyudar(lista));"
   ]
  }
 ],
 "metadata": {
  "kernelspec": {
   "display_name": "Java",
   "language": "java",
   "name": "java"
  },
  "language_info": {
   "codemirror_mode": "java",
   "file_extension": ".jshell",
   "mimetype": "text/x-java-source",
   "name": "java",
   "pygments_lexer": "java",
   "version": "23.0.1+11-39"
  }
 },
 "nbformat": 4,
 "nbformat_minor": 2
}

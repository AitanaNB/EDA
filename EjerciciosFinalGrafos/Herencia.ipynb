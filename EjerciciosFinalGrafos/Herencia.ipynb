{
 "cells": [
  {
   "cell_type": "markdown",
   "metadata": {},
   "source": [
    "Herencia"
   ]
  },
  {
   "cell_type": "code",
   "execution_count": null,
   "metadata": {},
   "outputs": [],
   "source": [
    "public class GraphAL<T> implements GraphADT<T>\n",
    "{\n",
    "    protected final int DEFAULT_CAPACITY = 100;\n",
    "    protected int numVertices; // number of vertices in the graph\n",
    "    protected LinkedList<Integer>[] adjList; // adjacency list\n",
    "    protected T[] vertices; // values of vertices\n",
    "    public int index(T t) {}\n",
    "    // pre: el elemento t se encuentra en el grafo\n",
    "    // post devuelve el índice del array “vertices” correspondiente a t\n",
    "}\n",
    "public class GrafoPersonas extends GraphAL<Persona> {\n",
    "    public int repartir(int cantidad, int n, Persona p)\n",
    "    // pre: n indica el grado de parentesco máximo de las personas a las que\n",
    "    // se repartirá la herencia\n",
    "    // post: el resultado es la cantidad que tocará a cada uno de los\n",
    "    // perceptores de la herencia, que se calcula dividiendo la cantidad a\n",
    "    // repartir a partes iguales entre las personas que se encuentran a\n",
    "    // una distancia menor igual a n de la persona p.\n",
    "    {\n",
    "        int nivelAct=1; \n",
    "        int personas=0;\n",
    "        boolean[] examinados= new boolean [vertices.length];\n",
    "        Queue<integer> porEx= new LinkedList<>();\n",
    "        int[] distancias = new int [vertices.length];\n",
    "        int actual= index(p); //persona inicial\n",
    "        porEx.offer(actual);\n",
    "        examinados[actual]=true;\n",
    "\n",
    "        while(!porEx.isEmpty())\n",
    "        {\n",
    "            int i=porEx.poll();\n",
    "            int distAct= distancias[i];\n",
    "\n",
    "            if(distAct<n)\n",
    "            {\n",
    "                for(int j :adjList[i])\n",
    "                {\n",
    "                    if(!examinados[i])\n",
    "                    {\n",
    "                        examinados[j]=true;\n",
    "                        porEx.add(j);\n",
    "                        distancias[j]=distAct+1\n",
    "                    }\n",
    "                }\n",
    "            }\n",
    "        }\n",
    "\n",
    "        for(int i=0; i<numVertices; i++)\n",
    "        {\n",
    "            if(examinados[i])\n",
    "            {\n",
    "                personas++;\n",
    "            }\n",
    "        }\n",
    "        return cantidad/personas;\n",
    "\n",
    "\n",
    "    }\n",
    "} "
   ]
  }
 ],
 "metadata": {
  "kernelspec": {
   "display_name": "Java",
   "language": "java",
   "name": "java"
  },
  "language_info": {
   "name": "java"
  }
 },
 "nbformat": 4,
 "nbformat_minor": 2
}

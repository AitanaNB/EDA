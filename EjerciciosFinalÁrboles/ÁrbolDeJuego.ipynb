{
 "cells": [
  {
   "cell_type": "markdown",
   "metadata": {},
   "source": [
    "Árbol de Juego"
   ]
  },
  {
   "cell_type": "code",
   "execution_count": 23,
   "metadata": {
    "vscode": {
     "languageId": "java"
    }
   },
   "outputs": [],
   "source": [
    "public class Info {\n",
    "    String s;\n",
    "    Integer puntos;\n",
    "\n",
    "    public Info(String nom, int p) {\n",
    "        s = nom;\n",
    "        puntos = p;\n",
    "    }\n",
    "\n",
    "   \n",
    "    public void print(){\n",
    "        System.out.print(\" \" + s + \" \" + puntos + \", \");\n",
    "    }\n",
    "}\n",
    "\n",
    "public class Nodo {\n",
    "    Info content;\n",
    "    Nodo izq, der;\n",
    "    Nodo padre; //TIENE EL ANTERIOR\n",
    "\n",
    "    public Nodo(Info i) {\n",
    "        content = i;\n",
    "    }\n",
    "\n",
    "}\n"
   ]
  },
  {
   "cell_type": "code",
   "execution_count": 46,
   "metadata": {
    "vscode": {
     "languageId": "java"
    }
   },
   "outputs": [],
   "source": [
    "public class Arbol {\n",
    "\n",
    "\tprivate Nodo root;\n",
    "\n",
    "\tpublic Arbol() {\n",
    "\t\tNodo n1 = new Nodo(new Info(\"B\", 3));\n",
    "\t\tNodo n2 = new Nodo(new Info(\"C\", 3));\n",
    "\t\tNodo n3 = new Nodo(new Info(\"D\", 3));\n",
    "\t\tNodo n4 = new Nodo(new Info(\"E\", 3));\n",
    "\t\tNodo n5 = new Nodo(new Info(\"F\", 3));\n",
    "\t\tNodo n6 = new Nodo(new Info(\"G\", 3));\n",
    "\t\tNodo n7 = new Nodo(new Info(\"H\", 3));\n",
    "\n",
    "\t\troot = n1;\n",
    "\t\tn1.izq = n2;\n",
    "\t\tn2.padre = n1;\n",
    "\t\tn1.der = n3;\n",
    "\t\tn3.padre = n1;\n",
    "\t\tn2.izq = n4;\n",
    "\t\tn4.padre = n2;\n",
    "\t\tn2.der = n5;\n",
    "\t\tn5.padre = n2;\n",
    "\t\tn3.izq = n6;\n",
    "\t\tn6.padre = n3;\n",
    "\t\tn3.der = n7;\n",
    "\t\tn7.padre = n3;\n",
    "\t}\n",
    "\t\n",
    "\tpublic void print(){\n",
    "\t\tprint(root);\n",
    "\t}\n",
    "\t\n",
    "\tprivate void print(Nodo n){\n",
    "\t\tif (n != null)\n",
    "\t\t\t{ print(n.izq);\n",
    "\t\t\t  n.content.print();\n",
    "\t\t\t  print(n.der);\n",
    "\t\t\t}\n",
    "\t}\n",
    "\t\n",
    "\tpublic void premiar(int puntos, String elem) {\n",
    "\t\tNodo nodo = find(elem,root); //Conseguir nodo principal, con padre\n",
    "        if(nodo !=null)\n",
    "        {\n",
    "            nodo.content.puntos+=puntos;\n",
    "\t\t\tint puntos2= puntos-1;\n",
    "\t\t\twhile(nodo.padre!=null && puntos2>0)\n",
    "\t\t\t{\n",
    "\t\t\t\tnodo=nodo.padre;\n",
    "                nodo.content.puntos+=puntos2;\n",
    "\t\t\t\tpuntos2--;\n",
    "\t\t\t}\n",
    "            \n",
    "\t\t\t/*for(int i=puntos-1; i>0; i--)\n",
    "            {\n",
    "                nodo=nodo.padre;\n",
    "                nodo.content.puntos+=i;\n",
    "            }*/\n",
    "        }\n",
    "\n",
    "\t}\n",
    "\n",
    "    private Nodo find(String elem, Nodo a)\n",
    "    {\n",
    "        if (a ==null)\n",
    "        {\n",
    "            return null;\n",
    "        }\n",
    "        else if(a.content.s.equals(elem))\n",
    "        {\n",
    "            return a;\n",
    "        }\n",
    "        else\n",
    "        {\n",
    "            Nodo rdoIzq = find(elem, a.izq);\n",
    "            if(rdoIzq != null)\n",
    "            {\n",
    "                return rdoIzq;\n",
    "            }\n",
    "            else\n",
    "            {\n",
    "                return find(elem, a.der);\n",
    "            }\n",
    "        }\n",
    "    }\n",
    "\n",
    "\t\n",
    "\t\n",
    "}"
   ]
  },
  {
   "cell_type": "code",
   "execution_count": 47,
   "metadata": {
    "vscode": {
     "languageId": "java"
    }
   },
   "outputs": [
    {
     "name": "stdout",
     "output_type": "stream",
     "text": [
      " E 3,  C 3,  F 3,  B 3,  G 3,  D 3,  H 3, \n",
      " E 3,  C 3,  F 3,  B 9,  G 11,  D 10,  H 3, "
     ]
    }
   ],
   "source": [
    "Arbol a = new Arbol();\n",
    "a.print();\n",
    "System.out.println();\n",
    "a.premiar(8, \"G\");\n",
    "a.print();\n"
   ]
  }
 ],
 "metadata": {
  "kernelspec": {
   "display_name": "Java",
   "language": "java",
   "name": "java"
  },
  "language_info": {
   "codemirror_mode": "java",
   "file_extension": ".jshell",
   "mimetype": "text/x-java-source",
   "name": "Java",
   "pygments_lexer": "java",
   "version": "23.0.1+11-39"
  }
 },
 "nbformat": 4,
 "nbformat_minor": 2
}

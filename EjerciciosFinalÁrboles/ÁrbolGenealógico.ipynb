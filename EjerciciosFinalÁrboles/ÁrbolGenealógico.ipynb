{
 "cells": [
  {
   "cell_type": "markdown",
   "metadata": {},
   "source": [
    "Árbol genealógico"
   ]
  },
  {
   "cell_type": "code",
   "execution_count": 1,
   "metadata": {
    "vscode": {
     "languageId": "java"
    }
   },
   "outputs": [],
   "source": [
    "public class Persona \n",
    "{\n",
    "    String nombre;\n",
    "    String localidadNacimiento;\n",
    "}\n",
    "public class BinaryTreeNode<T> \n",
    "{\n",
    "    T data;\n",
    "    BinaryTreeNode<T> left, right;\n",
    " }"
   ]
  },
  {
   "cell_type": "code",
   "execution_count": null,
   "metadata": {
    "vscode": {
     "languageId": "java"
    }
   },
   "outputs": [],
   "source": [
    "public class ArbolGenealogico \n",
    "{\n",
    "    BinaryTreeNode<Persona> root;\n",
    "    \n",
    "    public boolean esVizcainoDePuraCepa (String nombre, HashMap<String, String> localidades)\n",
    "    {\n",
    "        //buscar persona en todo el árbol\n",
    "        BinaryTreeNode <Persona> p= find(nombre, root);\n",
    "        if(p==null) \n",
    "        { \n",
    "            return false;\n",
    "        }\n",
    "        else\n",
    "        {\n",
    "            return todosVizcainos(p,localidades);\n",
    "        }\n",
    "    }\n",
    "\n",
    "    private  BinaryTreeNode <Persona> find (String nombre, BinaryTreeNode<Persona> a )\n",
    "    {\n",
    "        if (a==null)\n",
    "        {\n",
    "            return null;\n",
    "        }\n",
    "        else if (a.data.equals(nombre))\n",
    "        {\n",
    "            return a;\n",
    "        }\n",
    "        else //recursivo\n",
    "        {//mirar nodo de la izquierda\n",
    "            BinaryTreeNode <Persona> rdoIzq = find(nombre, a.left);\n",
    "            if(rdoIzq != null) //seguir llamando si no está vacío\n",
    "            {\n",
    "                return rdoIzq;\n",
    "            }\n",
    "            else //cuando acabe busca el derecho\n",
    "            {\n",
    "                return find(nombre, a.right);\n",
    "            }\n",
    "        }\n",
    "    }\n",
    "\n",
    "    private boolean todosVizcainos (BinaryTreeNode <Persona> a,  HashMap<String, String> localidades)\n",
    "    {\n",
    "        if (a ==null)\n",
    "        {\n",
    "            return false;\n",
    "        }\n",
    "        else if(!localidades.get(a.data.localidadNacimiento).equals(\"Bizkaia\"))\n",
    "        {\n",
    "            return false;\n",
    "        }\n",
    "        else\n",
    "        {\n",
    "            return todosVizcainos(a.left, localidades) && todosVizcainos(a.right,localidades);\n",
    "        }\n",
    "    }\n",
    "   }\n",
    "   "
   ]
  }
 ],
 "metadata": {
  "kernelspec": {
   "display_name": "Java",
   "language": "java",
   "name": "java"
  },
  "language_info": {
   "codemirror_mode": "java",
   "file_extension": ".jshell",
   "mimetype": "text/x-java-source",
   "name": "Java",
   "pygments_lexer": "java",
   "version": "23.0.1+11-39"
  }
 },
 "nbformat": 4,
 "nbformat_minor": 2
}

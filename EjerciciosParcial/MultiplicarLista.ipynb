{
 "cells": [
  {
   "cell_type": "markdown",
   "metadata": {},
   "source": [
    "Multiplicar lista"
   ]
  },
  {
   "cell_type": "code",
   "execution_count": 1,
   "metadata": {},
   "outputs": [],
   "source": [
    "//definicion nodos\n",
    "public class Node<T> \n",
    "{\n",
    "    String data;\n",
    "    Node<T> next;\n",
    "    Node<T> prev;\n",
    "   \n",
    "    public Node(String data) \n",
    "    {\n",
    "        this.data = data;\n",
    "        this.next = null;\n",
    "        this.prev = null;\n",
    "    }\n",
    "}\n",
    "//definicion lista circular(puntero a 1ero) doblemente ligada\n",
    "public class Lista<T> {\n",
    "    Node<T> first;\n",
    "\n",
    "    public Lista() //constructora\n",
    "    {\n",
    "        this.first=null;\n",
    "    }\n",
    "\n",
    "    public void multiplicar(Integer n) {\n",
    "    // pre: n >= 1\n",
    "    // post: la lista ha sido modificada y contiene cada elemento de la\n",
    "    // lista inicial rep\n",
    "        if(first==null)\n",
    "        {}\n",
    "        else\n",
    "        {\n",
    "            Node<T> actual = this.first; //valor del primer nodo\n",
    "           \n",
    "            do\n",
    "            {\n",
    "                for(int j=1; j<n; j++)\n",
    "                {\n",
    "                    Node<T> nuevo = new Node<>(actual.data);\n",
    "                    nuevo.next=actual.next;\n",
    "                    nuevo.prev=actual;\n",
    "                    actual.next.prev=nuevo; \n",
    "                    actual.next=nuevo;\n",
    "                    actual=nuevo; //avanzar uno\n",
    "\n",
    "                }\n",
    "                actual=actual.next;\n",
    "            }while(actual != first);\n",
    "        }\n",
    "    }\n",
    "    public void imprimir()\n",
    "    {\n",
    "        Node <T> actual =this.first;\n",
    "        if(actual!=null)\n",
    "        {\n",
    "            System.out.println(actual.data);\n",
    "            actual=actual.next;\n",
    "        }\n",
    "        while(actual!=null && actual != first)\n",
    "        {\n",
    "            System.out.println(actual.data + \" \");\n",
    "            actual=actual.next;\n",
    "        }\n",
    "    }\n",
    "} //Coste O(n*m) donde m es el nº de elemtos de la lista y n las repeticiones de cada nodo"
   ]
  },
  {
   "cell_type": "markdown",
   "metadata": {},
   "source": [
    "Pruebas:"
   ]
  },
  {
   "cell_type": "code",
   "execution_count": 42,
   "metadata": {},
   "outputs": [
    {
     "name": "stdout",
     "output_type": "stream",
     "text": [
      "5\n",
      "7 \n",
      "2 \n",
      "Prueba multiplicar\n",
      "5\n",
      "5 \n",
      "7 \n",
      "7 \n",
      "2 \n",
      "2 \n",
      "First: 5\n",
      "Last: 2\n"
     ]
    }
   ],
   "source": [
    "Lista<String> lista1=new Lista<String>();\n",
    "Node n1=new Node(\"5\");\n",
    "Node n2=new Node(\"7\");\n",
    "Node n3=new Node(\"2\");\n",
    "\n",
    "n1.next=n2;\n",
    "n2.prev=n1;\n",
    "n2.next=n3;\n",
    "n3.prev=n2;\n",
    "n3.next=n1;\n",
    "lista1.first=n1;\n",
    "\n",
    "lista1.imprimir();\n",
    "\n",
    "System.out.println(\"Prueba multiplicar\");\n",
    "lista1.multiplicar(2);\n",
    "lista1.imprimir();\n",
    "\n",
    "\n",
    "System.out.println(\"First: \" + lista1.first.data.toString());\n",
    "\n",
    "System.out.println(\"Last: \" + lista1.first.prev.data.toString())"
   ]
  },
  {
   "cell_type": "code",
   "execution_count": 48,
   "metadata": {},
   "outputs": [],
   "source": [
    "//prueba lista vacía;\n",
    "Lista <String>lVacia= new Lista();\n",
    "lVacia.multiplicar(1);"
   ]
  },
  {
   "cell_type": "code",
   "execution_count": null,
   "metadata": {},
   "outputs": [],
   "source": []
  }
 ],
 "metadata": {
  "kernelspec": {
   "display_name": "Java",
   "language": "java",
   "name": "java"
  },
  "language_info": {
   "codemirror_mode": "java",
   "file_extension": ".jshell",
   "mimetype": "text/x-java-source",
   "name": "java",
   "pygments_lexer": "java",
   "version": "21.0.4+7-LTS"
  }
 },
 "nbformat": 4,
 "nbformat_minor": 2
}

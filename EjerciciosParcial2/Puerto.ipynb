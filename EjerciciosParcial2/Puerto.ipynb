{
 "cells": [
  {
   "cell_type": "markdown",
   "metadata": {},
   "source": [
    "Puerto"
   ]
  },
  {
   "cell_type": "code",
   "execution_count": 1,
   "metadata": {
    "vscode": {
     "languageId": "java"
    }
   },
   "outputs": [],
   "source": [
    "public class Peticion\n",
    "{\n",
    "    String codigoContenedor;\n",
    "    int muelle;\n",
    "}\n",
    "\n",
    "public class Barco\n",
    "{\n",
    "    int tipo; //0 descarga, 1 carga\n",
    "    String nombre;\n",
    "    Queue<Peticion> peticiones;\n",
    "}"
   ]
  },
  {
   "cell_type": "code",
   "execution_count": null,
   "metadata": {
    "vscode": {
     "languageId": "java"
    }
   },
   "outputs": [],
   "source": [
    "public class PortUnreachableException{\n",
    "    Stack <String> [] muelles; //array de muelles-> Hay que inicializarlo\n",
    "\n",
    "    public void simularPuerto (Queue<Barco> barcos, int masPeticiones, int numMuelles)\n",
    "    {\n",
    "        //crear los muelles\n",
    "        muelles = new Stack <String>[numMuelles];\n",
    "\n",
    "        for(int i=0; i<numMuelles; i++)\n",
    "        {\n",
    "            muelles[i]=new Stack <>();\n",
    "        }\n",
    "        //simular puerto\n",
    "        for(Barco barco: barcos)\n",
    "        {\n",
    "            //si es de descarga\n",
    "            if(barco.tipo==0)\n",
    "            {\n",
    "                int cont=0;\n",
    "                while(cont<numMuelles && !barco.peticiones.isEmpty())\n",
    "                {\n",
    "                    Peticion pet = barco.peticiones.poll(); //primera de las peticiones de descarga\n",
    "                    muelles[pet.muelle].push(pet.codigoContenedor); //añadir al muelle\n",
    "                    cont++;\n",
    "                }\n",
    "                if(!barco.peticiones.isEmpty()) //poner al barco al final de la cola\n",
    "                {\n",
    "                    barcos.offer(barco);\n",
    "                }\n",
    "\n",
    "            }\n",
    "            //si es de carga (tipo 1)\n",
    "            else\n",
    "            {\n",
    "                while(!barco.peticiones.isEmpty()) //tramitar peticiones de carga\n",
    "                {\n",
    "                    Peticion pet= barco.peticiones.peek(); //primera peticion\n",
    "                    Stack <String> muelle = muelles[pet.muelle];\n",
    "                    boolean fin =false;\n",
    "                    while(!fin)\n",
    "                    {\n",
    "                        String act= muelle.pop();\n",
    "                        if(act.equals(pet.codigoContenedor))\n",
    "                        {\n",
    "                            fin =true;\n",
    "                        }\n",
    "                        else\n",
    "                        {\n",
    "                            muelles[0].push(act);\n",
    "                        }\n",
    "                    }\n",
    "                    while(!muelles[0].isEmpty())\n",
    "                    {\n",
    "                        String aMover= muelles[0].pop();\n",
    "                        muelle.push(aMover);\n",
    "                    }\n",
    "                }\n",
    "            }\n",
    "        }\n",
    "    }\n",
    "}"
   ]
  }
 ],
 "metadata": {
  "kernelspec": {
   "display_name": "Java",
   "language": "java",
   "name": "java"
  },
  "language_info": {
   "codemirror_mode": "java",
   "file_extension": ".jshell",
   "mimetype": "text/x-java-source",
   "name": "Java",
   "pygments_lexer": "java",
   "version": "21.0.4+7-LTS"
  }
 },
 "nbformat": 4,
 "nbformat_minor": 2
}

{
 "cells": [
  {
   "cell_type": "markdown",
   "metadata": {},
   "source": [
    "Calcular coste del algoritmo"
   ]
  },
  {
   "cell_type": "code",
   "execution_count": null,
   "metadata": {},
   "outputs": [],
   "source": [
    "public boolean contains(int [][] m, int elem)\n",
    "{\n",
    "    int numLineas=m.length; //numero de filas\n",
    "    int numCols= m[0].length;\n",
    "    int i =numLineas-1;\n",
    "    int j=0;\n",
    "    while(i>=0 && j<numCols)\n",
    "    {\n",
    "        if (elem == m[i][j])\n",
    "        {\n",
    "            return true;\n",
    "        }\n",
    "        else if(elem<m[i][j])\n",
    "        {\n",
    "            i=i-1;\n",
    "        }\n",
    "        else{j=j+1;}\n",
    "    }\n",
    "    return false;\n",
    "} // COSTE O(n+m) num filas + num columnas"
   ]
  }
 ],
 "metadata": {
  "kernelspec": {
   "display_name": "Java",
   "language": "java",
   "name": "java"
  },
  "language_info": {
   "name": "java"
  }
 },
 "nbformat": 4,
 "nbformat_minor": 2
}

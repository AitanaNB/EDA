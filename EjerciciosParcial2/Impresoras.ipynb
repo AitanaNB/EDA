{
 "cells": [
  {
   "cell_type": "markdown",
   "metadata": {},
   "source": [
    "Impresoras"
   ]
  },
  {
   "cell_type": "code",
   "execution_count": null,
   "metadata": {},
   "outputs": [],
   "source": [
    "public class Peticion\n",
    "{\n",
    "    Character tipoEvento;\n",
    "    Integer impresora;\n",
    "    Integer trabajo;\n",
    "\n",
    "    public Peticion(Character tipoEvento, Integer impresora, Integer trabajo) \n",
    "    {\n",
    "        this.tipoEvento = tipoEvento;\n",
    "        this.impresora = impresora;\n",
    "        this.trabajo = trabajo;\n",
    "    }\n",
    "}\n",
    "\n",
    "public class Impresoras\n",
    "{\n",
    "    public void procesarTrabajos(ArrayList <Peticion> lista)\n",
    "    {\n",
    "        //inicializar lista de impresoras, como un array de colas\n",
    "        Queue<Integer> [] impresoras= new LinkedList <> [5];\n",
    "\n",
    "        //inicializar cada cola\n",
    "        for(int i=0; i<=5; i++)\n",
    "        {\n",
    "            impresoras[i]=new LinkedList<Integer>();\n",
    "        }\n",
    "        boolean apagado=false;\n",
    "\n",
    "        //procesar eventos normales\n",
    "        for(Peticion peticion:lista)\n",
    "        {\n",
    "            char tipoEvento = peticion.tipoEvento;\n",
    "            int impresora = peticion.impresora != null ? peticion.impresora : -1;\n",
    "            int trabajo = peticion.trabajo != null ? peticion.trabajo : -1;\n",
    "        }\n",
    "    }\n",
    "}"
   ]
  }
 ],
 "metadata": {
  "kernelspec": {
   "display_name": "Java",
   "language": "java",
   "name": "java"
  },
  "language_info": {
   "name": "java"
  }
 },
 "nbformat": 4,
 "nbformat_minor": 2
}

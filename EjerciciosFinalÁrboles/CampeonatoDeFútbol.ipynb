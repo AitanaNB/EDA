{
 "cells": [
  {
   "cell_type": "markdown",
   "metadata": {},
   "source": [
    "Campeonato de fútbol"
   ]
  },
  {
   "cell_type": "code",
   "execution_count": 30,
   "metadata": {
    "vscode": {
     "languageId": "java"
    }
   },
   "outputs": [],
   "source": [
    "public class Marcador {\n",
    "    String ganador; // nombre del equipo\n",
    "    Integer golesIzq;\n",
    "    Integer golesDer;\n",
    "\n",
    "    public Marcador(Integer izq, Integer der) \n",
    "    {\n",
    "        this.golesIzq=izq;\n",
    "        this.golesDer=der;\n",
    "    }\n",
    "    public String getGanador()\n",
    "    {\n",
    "        return this.ganador;\n",
    "    }\n",
    "\n",
    "}\n",
    "public class Nodo {\n",
    "    Marcador info;\n",
    "    Nodo izq, der;\n",
    "\n",
    "    public Nodo(Marcador pMar)\n",
    "    {\n",
    "        this.info=pMar;\n",
    "    }\n",
    "    public void setGanador(String pGan)\n",
    "    {\n",
    "        this.info.ganador=pGan;\n",
    "    }\n",
    "    \n",
    "}\n"
   ]
  },
  {
   "cell_type": "code",
   "execution_count": 41,
   "metadata": {
    "vscode": {
     "languageId": "java"
    }
   },
   "outputs": [],
   "source": [
    "public class Campeonato \n",
    "{\n",
    "    Nodo root;\n",
    "   \n",
    "//Árbol binario NO vacío\n",
    "    public Campeonato()\n",
    "    {\n",
    "\t\t\n",
    "\t\tNodo n1 = new Nodo(new Marcador(0,2));\n",
    "\t\tNodo n2 = new Nodo(new Marcador(1,2));\n",
    "\t\tNodo n3 = new Nodo(new Marcador(2,0));\n",
    "\t\tNodo n4 = new Nodo(new Marcador(1,0));\n",
    "\t\tNodo n5 = new Nodo(new Marcador(2,0));\n",
    "\t\tNodo n6 = new Nodo(new Marcador(1,3));\n",
    "\t\tNodo n7 = new Nodo(new Marcador(1,0));\n",
    "\t\tNodo n8 = new Nodo(new Marcador(-1,-1));\n",
    "\t\tNodo n9 = new Nodo(new Marcador(-1,-1));\n",
    "\t\tNodo n10 = new Nodo(new Marcador(-1,-1));\n",
    "\t\tNodo n11 = new Nodo(new Marcador(-1,-1));\n",
    "\t\tNodo n12 = new Nodo(new Marcador(-1,-1));\n",
    "\t\tNodo n13 = new Nodo(new Marcador(-1,-1));\n",
    "        Nodo n14 = new Nodo(new Marcador(-1,-1));\n",
    "        Nodo n15 = new Nodo(new Marcador(-1,-1));\n",
    "\t\t\n",
    "        root = n1;\n",
    "        n1.izq = n2;\n",
    "        n1.der = n3;\n",
    "        n2.izq = n4;\n",
    "        n2.der = n5;\n",
    "        n3.izq = n6;\n",
    "        n3.der = n7;\n",
    "        n4.izq = n8;\n",
    "        n4.der = n9;\n",
    "        n5.izq = n10;\n",
    "        n5.der = n11;\n",
    "        n6.izq = n12;\n",
    "        n6.der = n13;\n",
    "        n7.izq = n14;\n",
    "        n7.der = n15;\n",
    "\n",
    "        n8.setGanador(\"E1\");\n",
    "        n9.setGanador(\"E2\");\n",
    "        n10.setGanador(\"E3\");\n",
    "        n11.setGanador(\"E4\");\n",
    "        n12.setGanador(\"E5\");\n",
    "        n13.setGanador(\"E6\");\n",
    "        n14.setGanador(\"E7\");\n",
    "        n15.setGanador(\"E8\");\n",
    "    }\n",
    "\n",
    "    public void imprimirArbol() {\n",
    "        imprimirPreorden(root, 0); // Llamar al método auxiliar\n",
    "    }\n",
    "\n",
    "    // Método auxiliar para imprimir el árbol en preorden\n",
    "    private void imprimirPreorden(Nodo nodo, int nivel) {\n",
    "        if (nodo == null) {\n",
    "            return;\n",
    "        }\n",
    "        // Imprimir información del nodo en formato esquemático\n",
    "        System.out.println(\" \".repeat(nivel * 4) + // Sangría según el nivel\n",
    "                 nodo.info.ganador +\n",
    "                \" | \" + nodo.info.golesIzq +\n",
    "                \" |  \" + nodo.info.golesDer);\n",
    "\n",
    "        // Recursión para los hijos izquierdo y derecho\n",
    "        imprimirPreorden(nodo.izq, nivel + 1);\n",
    "        imprimirPreorden(nodo.der, nivel + 1);\n",
    "    }\n",
    "\n",
    "    public String campeon()\n",
    "    {\n",
    "        return campeon(root);\n",
    "    }\n",
    "    private String campeon(Nodo n)\n",
    "    {\n",
    "        if(n.izq!=null && n.der!=null)\n",
    "        {\n",
    "           campeon(n.izq);\n",
    "           campeon(n.der);\n",
    "            \n",
    "\n",
    "            if(n.info.golesIzq>=n.info.golesDer)//gana Izq\n",
    "            {\n",
    "                n.setGanador(n.izq.info.getGanador());\n",
    "            }\n",
    "            else\n",
    "            {\n",
    "                n.setGanador(n.der.info.getGanador());\n",
    "            }\n",
    "        }\n",
    "        return n.info.getGanador();\n",
    "    }\n",
    "\n",
    "}\n",
    "   "
   ]
  },
  {
   "cell_type": "code",
   "execution_count": 42,
   "metadata": {
    "vscode": {
     "languageId": "java"
    }
   },
   "outputs": [
    {
     "name": "stdout",
     "output_type": "stream",
     "text": [
      "null | 0 |  2\n"
     ]
    },
    {
     "name": "stdout",
     "output_type": "stream",
     "text": [
      "    null | 1 |  2\n",
      "        null | 1 |  0\n",
      "            E1 | -1 |  -1\n",
      "            E2 | -1 |  -1\n",
      "        null | 2 |  0\n",
      "            E3 | -1 |  -1\n",
      "            E4 | -1 |  -1\n",
      "    null | 2 |  0\n",
      "        null | 1 |  3\n",
      "            E5 | -1 |  -1\n",
      "            E6 | -1 |  -1\n",
      "        null | 1 |  0\n",
      "            E7 | -1 |  -1\n",
      "            E8 | -1 |  -1\n",
      "E6\n"
     ]
    }
   ],
   "source": [
    "Campeonato miCamp=new Campeonato();\n",
    "miCamp.imprimirArbol();\n",
    "miCamp.campeon();\n",
    "System.out.println(miCamp.root.info.getGanador());"
   ]
  }
 ],
 "metadata": {
  "kernelspec": {
   "display_name": "Java",
   "language": "java",
   "name": "java"
  },
  "language_info": {
   "codemirror_mode": "java",
   "file_extension": ".jshell",
   "mimetype": "text/x-java-source",
   "name": "Java",
   "pygments_lexer": "java",
   "version": "23.0.1+11-39"
  }
 },
 "nbformat": 4,
 "nbformat_minor": 2
}

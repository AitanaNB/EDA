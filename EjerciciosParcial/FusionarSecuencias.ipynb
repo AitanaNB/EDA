{
 "cells": [
  {
   "cell_type": "markdown",
   "metadata": {},
   "source": [
    "Fusionar secuencias ordenadas"
   ]
  },
  {
   "cell_type": "code",
   "execution_count": 6,
   "metadata": {
    "vscode": {
     "languageId": "java"
    }
   },
   "outputs": [],
   "source": [
    "public class DoubleNode <T> \n",
    "{\n",
    "    T data;\n",
    "    DoubleNode <T> prev;\n",
    "    DoubleNode <T> next;\n",
    "\n",
    "    public DoubleNode (T data)\n",
    "    {\n",
    "        this.data=data;\n",
    "    }\n",
    "}\n",
    "public class DoubleCircularLinkedList\n",
    "{\n",
    "    DoubleNode <String> first; //no se pueden añadir más atribs\n",
    "    \n",
    "    public void fusionarSecuencias (String[] s1, String[] s2)\n",
    "    {\n",
    "        //pre: las secuencias s1 y s2 están ordenadas ascendente\n",
    "        //post: devuelve doubleLinkedList circular con s1 y s2. También ordenada ascendentemente\n",
    "        int i=0; //xa s1\n",
    "        int j=0; //xa s2\n",
    "\n",
    "        DoubleNode<String> last=null; //puntero al último para añadir fácil\n",
    "\n",
    "        while(i<s1.length || j<s2.length) //COMPARETO XQ SON STRINGS  \n",
    "        { //escoger elemento menor\n",
    "            String menor=null;\n",
    "            if(i<s1.length &&(j>=s2.length || s1[i].compareTo(s2[j]) <= 0)) //si j se pasa o i es menor\n",
    "            {\n",
    "                menor=s1[i];\n",
    "                i++;\n",
    "            }\n",
    "            else //los demás casos\n",
    "            {\n",
    "                menor=s2[j];\n",
    "                j++;\n",
    "            }\n",
    "\n",
    "            //añadir elem\n",
    "            DoubleNode <String> nuevo= new DoubleNode <>(menor);\n",
    "            if(first==null) //si no hay primero\n",
    "            {\n",
    "                first=nuevo;\n",
    "                last=nuevo;\n",
    "            }\n",
    "            else\n",
    "            {\n",
    "                last.next=nuevo;\n",
    "                nuevo.prev=last;\n",
    "                last=nuevo;\n",
    "            }\n",
    "        }\n",
    "        //hacer lista circular\n",
    "        if (first != null && last != null) {\n",
    "            last.next = first;\n",
    "            first.prev = last;\n",
    "        }\n",
    "    }\n",
    "    public void printList() {\n",
    "        if (first == null) {\n",
    "            System.out.println(\"La lista está vacía.\");\n",
    "            return;\n",
    "        }\n",
    "        DoubleNode<String> current = first;\n",
    "        do {\n",
    "            System.out.print(current.data + \" \");\n",
    "            current = current.next;\n",
    "        } while (current != first);\n",
    "        System.out.println();\n",
    "    }\n",
    "}"
   ]
  },
  {
   "cell_type": "code",
   "execution_count": 7,
   "metadata": {
    "vscode": {
     "languageId": "java"
    }
   },
   "outputs": [
    {
     "name": "stdout",
     "output_type": "stream",
     "text": [
      "Resultado de fusionar s1 y s2:\n",
      "ama col gas mar oir pan rio zar \n",
      "Resultado de fusionar s3 y s4:\n",
      "a b c d e f \n",
      "Resultado de fusionar s5 y s6:\n",
      "uno dos tres \n"
     ]
    }
   ],
   "source": [
    "DoubleCircularLinkedList lista1 = new DoubleCircularLinkedList();\n",
    "String[] s1 = {\"col\", \"oir\", \"pan\"};\n",
    "String[] s2 = {\"ama\", \"gas\", \"mar\", \"rio\", \"zar\"};\n",
    "\n",
    "lista1.fusionarSecuencias(s1, s2);\n",
    "System.out.println(\"Resultado de fusionar s1 y s2:\");\n",
    "lista1.printList();\n",
    "\n",
    "DoubleCircularLinkedList lista2 = new DoubleCircularLinkedList();\n",
    "String[] s3 = {\"a\", \"c\", \"e\"};\n",
    "String[] s4 = {\"b\", \"d\", \"f\"};\n",
    "\n",
    "lista2.fusionarSecuencias(s3, s4);\n",
    "System.out.println(\"Resultado de fusionar s3 y s4:\");\n",
    "lista2.printList();\n",
    "\n",
    "DoubleCircularLinkedList lista3 = new DoubleCircularLinkedList();\n",
    "String[] s5 = {};\n",
    "String[] s6 = {\"uno\", \"dos\", \"tres\"};\n",
    "\n",
    "lista3.fusionarSecuencias(s5, s6);\n",
    "System.out.println(\"Resultado de fusionar s5 y s6:\");\n",
    "lista3.printList();"
   ]
  }
 ],
 "metadata": {
  "kernelspec": {
   "display_name": "Java",
   "language": "java",
   "name": "java"
  },
  "language_info": {
   "codemirror_mode": "java",
   "file_extension": ".jshell",
   "mimetype": "text/x-java-source",
   "name": "Java",
   "pygments_lexer": "java",
   "version": "21.0.4+7-LTS"
  }
 },
 "nbformat": 4,
 "nbformat_minor": 2
}

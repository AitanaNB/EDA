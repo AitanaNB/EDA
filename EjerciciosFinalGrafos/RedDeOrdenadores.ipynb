{
 "cells": [
  {
   "cell_type": "markdown",
   "metadata": {},
   "source": [
    "Red de ordenadores"
   ]
  },
  {
   "cell_type": "code",
   "execution_count": 6,
   "metadata": {
    "vscode": {
     "languageId": "java"
    }
   },
   "outputs": [],
   "source": [
    "public class RedDeOrdenadores \n",
    "{\n",
    "    Boolean[][] adjMatrix = \n",
    "    {\n",
    "\t\t// 0       1     2      3      4      5      6      7      8      9      10\n",
    "\t\t{false, false, true,  true,  false, false, false, false, false, false, false}, // 0 -> 2, 3\n",
    "\t\t{false, false, false, false, false, false, false, false, true,  true,  false}, // 1 -> 8, 9\n",
    "\t\t{false, false, false, false, true,  false, false, false, false, false, false}, // 2 -> 4\n",
    "\t\t{false, false, false, false, false, false, false, true,  false, false, true }, // 3 -> 7, 10\n",
    "\t\t{false, false, false, false, false, true,  false, false, false, false, false}, // 4 -> 5\n",
    "\t\t{false, true,  false, false, false, false, false, true,  false, false, false}, // 5 -> 1, 7\n",
    "\t\t{false, false, false, false, false, false, false, false, false, false, false}, // 6\n",
    "\t\t{false, false, false, false, false, false, false, false, false, false, true }, // 7 -> 10\n",
    "\t\t{false, false, false, false, false, false, false, false, false, false, false}, // 8\n",
    "\t\t{false, false, false, false, false, false, false, false, false, false, false}, // 9\n",
    "\t\t{false, false, false, false, false, false, false, false, false, false, false}  // 10\n",
    "\t}; // adjacency matrix\n",
    "    \n",
    "\n",
    "    /**\n",
    "\t * @return For each i (in the range 0 .. number of nodes in the graph), this method calculates\n",
    "\t * the minimum distance from node 0 to i\n",
    "\t */\n",
    "\tpublic int[] obtenerCostes() // Método a desarrollar-> coste mínimo-> recorrido en anchura\n",
    "    {\n",
    "\t\tint n= adjMatrix.length; //nº ordenadores\n",
    "        int[] rdo = new int [n]; //rdo de tamaño n\n",
    "        boolean[] examinados = new boolean[adjMatrix[0].length]; //marcar nodos visitados\n",
    "\n",
    "\t\t//cola xa realizar búsqueda anchura\n",
    "        Queue<Integer> porExaminar = new LinkedList<Integer>();\n",
    "        rdo[0]=0;\n",
    "        examinados[0]=true;\n",
    "\n",
    "        porExaminar.add(0);\n",
    "        while(!porExaminar.isEmpty()) //ir examinando\n",
    "        {\n",
    "            int act=porExaminar.poll();\n",
    "            for(int i=0; i<n; i++)\n",
    "            {\n",
    "                if(adjMatrix[act][i]==true && !examinados[i])\n",
    "                {\n",
    "                    rdo[i]= rdo[act]+1;\n",
    "                    examinados[i]=true;\n",
    "                    porExaminar.add(i);\n",
    "                }\n",
    "            }\n",
    "        }\n",
    "\n",
    "\t\treturn rdo;\n",
    "\t}\n",
    "\n",
    "}\n",
    "   "
   ]
  },
  {
   "cell_type": "code",
   "execution_count": 7,
   "metadata": {
    "vscode": {
     "languageId": "java"
    }
   },
   "outputs": [
    {
     "name": "stdout",
     "output_type": "stream",
     "text": [
      "0: 0\n",
      "1: 4\n",
      "2: 1\n",
      "3: 1\n",
      "4: 2\n",
      "5: 3\n",
      "6: 0\n",
      "7: 2\n",
      "8: 5\n",
      "9: 5\n",
      "10: 2\n"
     ]
    }
   ],
   "source": [
    "int[] r = new RedDeOrdenadores().obtenerCostes();\n",
    "int j = 0;\n",
    "for (Integer a: r){\n",
    "\tSystem.out.println(j + \": \" + a);\n",
    "\tj++;\n",
    "}"
   ]
  }
 ],
 "metadata": {
  "kernelspec": {
   "display_name": "Java",
   "language": "java",
   "name": "java"
  },
  "language_info": {
   "codemirror_mode": "java",
   "file_extension": ".jshell",
   "mimetype": "text/x-java-source",
   "name": "Java",
   "pygments_lexer": "java",
   "version": "23.0.1+11-39"
  }
 },
 "nbformat": 4,
 "nbformat_minor": 2
}

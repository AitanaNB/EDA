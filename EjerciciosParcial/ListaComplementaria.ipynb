{
 "cells": [
  {
   "cell_type": "markdown",
   "metadata": {},
   "source": [
    "Lista complementaria"
   ]
  },
  {
   "cell_type": "code",
   "execution_count": 1,
   "metadata": {},
   "outputs": [],
   "source": [
    "public class Node\n",
    "{\n",
    "    int data;\n",
    "    Node next;\n",
    "\n",
    "    public Node(int pData)\n",
    "    {\n",
    "        this.data=pData;\n",
    "    }\n",
    "}\n",
    "\n",
    "public class Lista{\n",
    "    Node first;\n",
    "\n",
    "    public Lista()//constructora\n",
    "    {}\n",
    "\n",
    "    public Lista obtenerListaComplementaria(int n)\n",
    "    {\n",
    "        //pre: n>=1, la lista está ordenada ascendentemente y los valores son >=n\n",
    "        //post: rdo es una lsita que contiene los valores entre 1 a n y que NO estaban en la lista original\n",
    "        Lista rdo=new Lista();\n",
    "        Node actual=this.first; //la lista no va a estar vacía\n",
    "        Node ultimo= null;\n",
    "        for(int i=1; i<=n; i++) \n",
    "        {\n",
    "            if(actual==null || actual.data>i)\n",
    "            { // Si el nodo actual es null o el dato actual es mayor que i, significa que i no está en la lista original\n",
    "                Node nuevo = new Node(i);\n",
    "                if (rdo.first == null) \n",
    "                {\n",
    "                    rdo.first = nuevo;\n",
    "                } \n",
    "                else \n",
    "                {\n",
    "                    ultimo.next = nuevo;\n",
    "                }\n",
    "                ultimo = nuevo;\n",
    "            }\n",
    "            else if(actual.data ==i)\n",
    "            {// si i coincide con valor de la lista original\n",
    "                actual=actual.next;\n",
    "            }\n",
    "        }    \n",
    "        return rdo;\n",
    "    \n",
    "    }\n",
    "    public void imprimir() {\n",
    "        Node current = first;\n",
    "        while (current != null) {\n",
    "            System.out.print(current.data + \" \");\n",
    "            current = current.next;\n",
    "        }\n",
    "        System.out.println();\n",
    "    }\n",
    "\n",
    "}"
   ]
  },
  {
   "cell_type": "code",
   "execution_count": 2,
   "metadata": {},
   "outputs": [],
   "source": [
    "public Lista crearLista(int[] valores) {\n",
    "    Lista lista = new Lista();\n",
    "    Node ultimo = null;\n",
    "    for (int valor : valores) {\n",
    "        Node nuevo = new Node(valor);\n",
    "        if (lista.first == null) {\n",
    "            lista.first = nuevo;\n",
    "        } else {\n",
    "            ultimo.next = nuevo;\n",
    "        }\n",
    "        ultimo = nuevo;\n",
    "    }\n",
    "    return lista;\n",
    "}"
   ]
  },
  {
   "cell_type": "code",
   "execution_count": 4,
   "metadata": {},
   "outputs": [
    {
     "name": "stdout",
     "output_type": "stream",
     "text": [
      "Caso 1: Lista original contiene todos los números de 1 a n\n",
      "Lista complementaria: \n",
      "\n",
      "Caso 2: Lista original está vacía\n",
      "Lista complementaria: 1 2 3 4 5 \n",
      "\n",
      "Caso 3: Lista original contiene algunos números entre 1 y n\n",
      "Lista complementaria: 2 4 \n"
     ]
    }
   ],
   "source": [
    "// Caso 1: Todos los números entre 1 y n están presentes en la lista original\n",
    "System.out.println(\"Caso 1: Lista original contiene todos los números de 1 a n\");\n",
    "Lista lista1 = crearLista(new int[]{1, 2, 3, 4, 5});\n",
    "Lista complementaria1 = lista1.obtenerListaComplementaria(5);\n",
    "System.out.print(\"Lista complementaria: \");\n",
    "complementaria1.imprimir(); // Esperado: lista vacía\n",
    "\n",
    "// Caso 2: Ningún número entre 1 y n está en la lista original\n",
    "System.out.println(\"\\nCaso 2: Lista original está vacía\");\n",
    "Lista lista2 = crearLista(new int[]{});\n",
    "Lista complementaria2 = lista2.obtenerListaComplementaria(5);\n",
    "System.out.print(\"Lista complementaria: \");\n",
    "complementaria2.imprimir(); // Esperado: 1 2 3 4 5\n",
    "\n",
    "// Caso 3: Algunos números entre 1 y n están presentes en la lista original\n",
    "System.out.println(\"\\nCaso 3: Lista original contiene algunos números entre 1 y n\");\n",
    "Lista lista3 = crearLista(new int[]{1, 3, 5});\n",
    "Lista complementaria3 = lista3.obtenerListaComplementaria(5);\n",
    "System.out.print(\"Lista complementaria: \");\n",
    "complementaria3.imprimir(); // Esperado: 2 4"
   ]
  }
 ],
 "metadata": {
  "kernelspec": {
   "display_name": "Java",
   "language": "java",
   "name": "java"
  },
  "language_info": {
   "codemirror_mode": "java",
   "file_extension": ".jshell",
   "mimetype": "text/x-java-source",
   "name": "java",
   "pygments_lexer": "java",
   "version": "21.0.4+7-LTS"
  }
 },
 "nbformat": 4,
 "nbformat_minor": 2
}

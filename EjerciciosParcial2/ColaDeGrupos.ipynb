{
 "cells": [
  {
   "cell_type": "markdown",
   "metadata": {},
   "source": [
    "Cola de Grupos"
   ]
  },
  {
   "cell_type": "code",
   "execution_count": null,
   "metadata": {},
   "outputs": [],
   "source": [
    "public class Cafeteria\n",
    "{\n",
    "    Queue<Queue<Integer>> cola = null; // una cola de colas\n",
    "    \n",
    "    public void insertar(Integer elem)\n",
    "    {\n",
    "        // Postcondición: se ha añadido “elem” en la cola de la cafetería\n",
    "        for(Queue<integer> subcola:cola)\n",
    "        {\n",
    "            if(!subcola.isEmpty() && mismoGrupo(subcola.peek(), elem))\n",
    "            {\n",
    "                subcola.add(elem);\n",
    "                return;\n",
    "            }\n",
    "        }\n",
    "        //si no está en ninguna subcola\n",
    "        Queue<integer> nuevaSubcola=new LinkedList<>();\n",
    "        nuevaSubcola.add(elem);\n",
    "        cola.add(nuevaSubcola); \n",
    "        \n",
    "    }\n",
    "    public Integer borrar()\n",
    "    {\n",
    "    // Precondición: se tiene al menos un elemento en la cola\n",
    "    // Postcondición: se ha eliminado el primer elemento de la cola y\n",
    "    // se devuelve su valor\n",
    "\n",
    "        //el peek será una cola\n",
    "        Queue<Integer> primero=cola.peek();\n",
    "        Integer eliminado= primero.remove();\n",
    "        if(primero.isEmpty())\n",
    "        {\n",
    "            cola.remove();\n",
    "        }\n",
    "        return eliminado;\n",
    "    }\n",
    "    \n",
    "    public boolean mismoGrupo(int p1, int p2)\n",
    "    // Postcondición: true si p1 y p2 pertenecen al mismo grupo y false si no\n",
    "    {\n",
    "        return false;\n",
    "    }\n",
    "} // Cafeteria\n"
   ]
  },
  {
   "cell_type": "code",
   "execution_count": null,
   "metadata": {},
   "outputs": [],
   "source": []
  }
 ],
 "metadata": {
  "kernelspec": {
   "display_name": "Java",
   "language": "java",
   "name": "java"
  },
  "language_info": {
   "codemirror_mode": "java",
   "file_extension": ".jshell",
   "mimetype": "text/x-java-source",
   "name": "java",
   "pygments_lexer": "java",
   "version": "21.0.4+7-LTS"
  }
 },
 "nbformat": 4,
 "nbformat_minor": 2
}

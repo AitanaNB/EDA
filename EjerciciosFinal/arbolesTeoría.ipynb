{
 "cells": [
  {
   "cell_type": "markdown",
   "metadata": {
    "id": "WypPNhpSqjn9"
   },
   "source": [
    "# Árboles binarios"
   ]
  },
  {
   "cell_type": "markdown",
   "metadata": {
    "id": "RawN9HJyqjoA"
   },
   "source": [
    "## Clase para representar un nodo"
   ]
  },
  {
   "cell_type": "code",
   "execution_count": 1,
   "metadata": {},
   "outputs": [],
   "source": [
    "public class BinaryTreeNode<T> {\n",
    "    T data;\n",
    "    BinaryTreeNode<T> left, right;\n",
    "    \n",
    "    public BinaryTreeNode(T pData) {\n",
    "       this.data = pData;\n",
    "    }\n",
    "}"
   ]
  },
  {
   "cell_type": "markdown",
   "metadata": {},
   "source": [
    "## Clase para representar el árbol binario"
   ]
  },
  {
   "cell_type": "code",
   "execution_count": 2,
   "metadata": {
    "executionInfo": {
     "elapsed": 241,
     "status": "ok",
     "timestamp": 1673967458553,
     "user": {
      "displayName": "Koldo Gojenola",
      "userId": "12914641104655753385"
     },
     "user_tz": -60
    },
    "id": "eCTS3F9_qjoE"
   },
   "outputs": [],
   "source": [
    "public class BinTree<T> {\n",
    "  BinaryTreeNode<T> root;\n",
    "  int count = 0;\n",
    "\n",
    "    public int numNodes() {\n",
    "        return numNodes(root);\n",
    "    }\n",
    "    private int numNodes(BinaryTreeNode<T> a) { \n",
    "        if (a == null) return 0;\n",
    "        else return 1 + numNodes(a.left) + numNodes(a.right);\n",
    "    }\n",
    "    \n",
    "    public void removeLeftSubtree() { \n",
    "        if (root == null) {}\n",
    "        else { count = count - numNodes(root.left);\n",
    "              root.left = null;\n",
    "             }\n",
    "    }\n",
    "    \n",
    "    public T find(T element) { \n",
    "        return find(element, root);\n",
    "    }\n",
    "      \n",
    "    private T find(T element, BinaryTreeNode<T> a) { \n",
    "        if (a == null) return null;\n",
    "        else if (a.data.equals(element))return a.data;\n",
    "        else {\n",
    "            T resulIzq = find(element, a.left);\n",
    "            if (resulIzq != null) return resulIzq;\n",
    "            else return find(element, a.right);\n",
    "        }\n",
    "    }\n",
    "  \n",
    "    public boolean contains(T element) {  \n",
    "        return find(element) != null;\n",
    "    }\n",
    "    \n",
    "    public Iterator<T> inOrder() {\n",
    "        //Post: devuelve el iterador en orden\n",
    "\n",
    "        return null;\n",
    "    }\n",
    "\n",
    "    public Iterator<T> porNiveles() {\n",
    "        // Postcondición: devuelve un iterador por niveles\n",
    "        ArrayList<T> lista = new ArrayList<T>();\n",
    "                   // TO DO\n",
    "        return lista.iterator();\n",
    "    }\n",
    "    \n",
    "    public String toString() {\n",
    "        return toString(root);\n",
    "    }\n",
    "        \n",
    "    private String toString(BinaryTreeNode<T> a) {\n",
    "        if (a == null) { return \"()\";}    \n",
    "        else if (a.left == null && a.right == null) return \"(\" + a.data + \")\";\n",
    "        else {\n",
    "            String resul;\n",
    "            resul = \"(\" + a.data + \" \" + toString(a.left) + \" \" + toString(a.right) + \")\";\n",
    "            return resul;\n",
    "        }\n",
    "    }\n",
    "    \n",
    "    public void printTree() {\n",
    "        int DIM = 10; // Sakonera\n",
    "        int DIM2 = 30; // Zabalera\n",
    "        char[][] irudia = new char[DIM][DIM2];\n",
    "        for (int i = 0; i < irudia.length; i++)\n",
    "            for (int j = 0; j < irudia[i].length; j++)\n",
    "                irudia[i][j] = ' ';\n",
    "        \n",
    "        printTree(root, irudia, 0, 0, DIM2 - 1);\n",
    "\n",
    "        for (int i = 0; i < irudia.length; i++) {\n",
    "            for (int j = 0; j < irudia[i].length; j++)\n",
    "                System.out.print(irudia[i][j]);\n",
    "            System.out.println();\n",
    "        }    \n",
    "    }\n",
    "        \n",
    "    private void printTree(BinaryTreeNode<T> a, char[][] irudia, int lerroa, int has, int buk) {  \n",
    "        if (a == null) {}\n",
    "        else {\n",
    "            int erdia = (has + buk)/2;\n",
    "            String balioa = a.data.toString();\n",
    "            int cont = erdia;\n",
    "            for (int i = 0; i < balioa.length(); i++) {\n",
    "                irudia[lerroa][cont] = balioa.charAt(i);\n",
    "                cont++;\n",
    "            }\n",
    "            if (a.left != null ) { \n",
    "                irudia[lerroa + 1][erdia - 1] = '/';\n",
    "                printTree(a.left, irudia, lerroa + 2, has, erdia - 1);\n",
    "            }\n",
    "            if (a.right != null ) { \n",
    "                irudia[lerroa + 1][erdia + balioa.length()] = '\\\\';\n",
    "                printTree(a.right, irudia, lerroa + 2, erdia + 1, buk);\n",
    "            }\n",
    "        }\n",
    "    }\n",
    "}"
   ]
  },
  {
   "cell_type": "markdown",
   "metadata": {
    "id": "BvsWjTT8qjoH"
   },
   "source": [
    "## Ejemplo de creación de un árbol binario"
   ]
  },
  {
   "cell_type": "code",
   "execution_count": 3,
   "metadata": {
    "executionInfo": {
     "elapsed": 305,
     "status": "ok",
     "timestamp": 1673967465786,
     "user": {
      "displayName": "Koldo Gojenola",
      "userId": "12914641104655753385"
     },
     "user_tz": -60
    },
    "id": "lAFvqjZAqjoJ"
   },
   "outputs": [
    {
     "data": {
      "text/plain": [
       "(23 (17 (7) (3)) (8 (12) (30)))"
      ]
     },
     "execution_count": 3,
     "metadata": {},
     "output_type": "execute_result"
    }
   ],
   "source": [
    "BinTree<Integer> tree = new BinTree<Integer>();\n",
    "\n",
    "//           23\n",
    "//         /    \\\n",
    "//       17      8\n",
    "//      /  \\    /  \\\n",
    "//     7   3   12  30\n",
    "\n",
    "BinaryTreeNode<Integer> n1 = new BinaryTreeNode<Integer>(23);\n",
    "BinaryTreeNode<Integer> n2 = new BinaryTreeNode<Integer>(17);\n",
    "BinaryTreeNode<Integer> n3 = new BinaryTreeNode<Integer>(8);\n",
    "BinaryTreeNode<Integer> n4 = new BinaryTreeNode<Integer>(7);\n",
    "BinaryTreeNode<Integer> n5 = new BinaryTreeNode<Integer>(3);\n",
    "BinaryTreeNode<Integer> n6 = new BinaryTreeNode<Integer>(12);\n",
    "BinaryTreeNode<Integer> n7 = new BinaryTreeNode<Integer>(30);\n",
    "\n",
    "tree.root = n1;\n",
    "n1.left = n2;\n",
    "n1.right = n3;\n",
    "n2.left = n4;\n",
    "n2.right = n5;\n",
    "n3.left = n6;\n",
    "n3.right = n7;\n",
    "\n",
    "tree.count = 7;\n",
    "\n",
    "tree.toString();"
   ]
  },
  {
   "cell_type": "code",
   "execution_count": 4,
   "metadata": {},
   "outputs": [
    {
     "name": "stdout",
     "output_type": "stream",
     "text": [
      "              23              \n",
      "             /  \\             \n",
      "      17              8       \n",
      "     /  \\            / \\      \n",
      "  7       3       12      30  \n",
      "                              \n",
      "                              \n",
      "                              \n",
      "                              \n",
      "                              \n"
     ]
    }
   ],
   "source": [
    "tree.printTree();"
   ]
  },
  {
   "cell_type": "markdown",
   "metadata": {},
   "source": [
    "## Ejercicio: implementar el método numNodes()"
   ]
  },
  {
   "cell_type": "code",
   "execution_count": 5,
   "metadata": {},
   "outputs": [
    {
     "data": {
      "text/plain": [
       "7"
      ]
     },
     "execution_count": 5,
     "metadata": {},
     "output_type": "execute_result"
    }
   ],
   "source": [
    "tree.numNodes();"
   ]
  },
  {
   "cell_type": "markdown",
   "metadata": {},
   "source": [
    "## Ejercicio: implementar el método find()"
   ]
  },
  {
   "cell_type": "markdown",
   "metadata": {},
   "source": [
    "Prueba de find(23). Resultado esperado: *23*"
   ]
  },
  {
   "cell_type": "code",
   "execution_count": 6,
   "metadata": {},
   "outputs": [
    {
     "name": "stdout",
     "output_type": "stream",
     "text": [
      "23\n"
     ]
    }
   ],
   "source": [
    "System.out.println(tree.find(23));"
   ]
  },
  {
   "cell_type": "markdown",
   "metadata": {},
   "source": [
    "### Prueba de find(17). Resultado esperado: *17*"
   ]
  },
  {
   "cell_type": "code",
   "execution_count": 7,
   "metadata": {},
   "outputs": [
    {
     "name": "stdout",
     "output_type": "stream",
     "text": [
      "17\n"
     ]
    }
   ],
   "source": [
    "System.out.println(tree.find(17));"
   ]
  },
  {
   "cell_type": "markdown",
   "metadata": {},
   "source": [
    "### Prueba de find(3). Resultado esperado: *3*"
   ]
  },
  {
   "cell_type": "code",
   "execution_count": 8,
   "metadata": {},
   "outputs": [
    {
     "name": "stdout",
     "output_type": "stream",
     "text": [
      "3\n"
     ]
    }
   ],
   "source": [
    "System.out.println(tree.find(3));"
   ]
  },
  {
   "cell_type": "markdown",
   "metadata": {},
   "source": [
    "### Prueba de find(30). Resultado esperado: *30*"
   ]
  },
  {
   "cell_type": "code",
   "execution_count": 9,
   "metadata": {},
   "outputs": [
    {
     "name": "stdout",
     "output_type": "stream",
     "text": [
      "30\n"
     ]
    }
   ],
   "source": [
    "System.out.println(tree.find(30));"
   ]
  },
  {
   "cell_type": "markdown",
   "metadata": {},
   "source": [
    "### Prueba de find(47). Resultado esperado: *null*"
   ]
  },
  {
   "cell_type": "code",
   "execution_count": 10,
   "metadata": {},
   "outputs": [
    {
     "name": "stdout",
     "output_type": "stream",
     "text": [
      "null\n"
     ]
    }
   ],
   "source": [
    "System.out.println(tree.find(47));"
   ]
  },
  {
   "cell_type": "markdown",
   "metadata": {},
   "source": [
    "## Ejercicio: implementar el método contains()"
   ]
  },
  {
   "cell_type": "markdown",
   "metadata": {},
   "source": [
    "Pruebas de contains(23), contains(17), contains(2), contains(30), contains(47). \n",
    "\n",
    "Resultados esperados: *true, true, true, true, false*"
   ]
  },
  {
   "cell_type": "code",
   "execution_count": 11,
   "metadata": {},
   "outputs": [
    {
     "name": "stdout",
     "output_type": "stream",
     "text": [
      "true true true true false\n"
     ]
    }
   ],
   "source": [
    "System.out.println(tree.contains(23) + \" \" + tree.contains(17) + \" \" + tree.contains(3) + \" \" + tree.contains(30) + \" \" + tree.contains(40));"
   ]
  },
  {
   "cell_type": "markdown",
   "metadata": {},
   "source": [
    "## Ejercicio: implementar el iterador inOrder"
   ]
  },
  {
   "cell_type": "markdown",
   "metadata": {},
   "source": [
    "### Prueba de inOrder(). Resultado esperado: 7, 17, 3, 23, 12, 8, 30"
   ]
  },
  {
   "cell_type": "code",
   "execution_count": 12,
   "metadata": {},
   "outputs": [
    {
     "ename": "EvalException",
     "evalue": "Cannot invoke \"java.util.Iterator.hasNext()\" because \"REPL.$JShell$39.it\" is null",
     "output_type": "error",
     "traceback": [
      "\u001b[1m\u001b[31m---------------------------------------------------------------------------\u001b[0m",
      "\u001b[1m\u001b[31mjava.lang.NullPointerException: Cannot invoke \"java.util.Iterator.hasNext()\" because \"REPL.$JShell$39.it\" is null\u001b[0m",
      "\u001b[1m\u001b[31m\tat .(#40:1)\u001b[0m"
     ]
    }
   ],
   "source": [
    "Iterator<Integer> it = tree.inOrder();\n",
    "\n",
    "while (it.hasNext()) {\n",
    "    Integer x = it.next();\n",
    "    System.out.print(x + \" \");\n",
    "}\n",
    "System.out.println();"
   ]
  },
  {
   "cell_type": "markdown",
   "metadata": {},
   "source": [
    "## Ejercicio: implementar el iterador por niveles"
   ]
  },
  {
   "cell_type": "markdown",
   "metadata": {},
   "source": [
    "### Prueba de iterador por niveles. Resultado esperado: 23 17 8 7 3 12 30 "
   ]
  },
  {
   "cell_type": "code",
   "execution_count": null,
   "metadata": {},
   "outputs": [],
   "source": [
    "Iterator<Integer> it = tree.porNiveles();\n",
    "\n",
    "while (it.hasNext()) {\n",
    "    Integer x = it.next();\n",
    "    System.out.print(x + \" \");\n",
    "}\n",
    "System.out.println();"
   ]
  },
  {
   "cell_type": "markdown",
   "metadata": {},
   "source": [
    "## Ejercicio: crear un árbol binario con estos datos:\n",
    "           ana\n",
    "         /     \\\n",
    "        jon    isa\n",
    "       /   \\      \\\n",
    "      ima  uma    aner\n"
   ]
  },
  {
   "cell_type": "code",
   "execution_count": null,
   "metadata": {},
   "outputs": [],
   "source": [
    "BinTree<String> tree2 = new BinTree<String>();\n",
    "// Crear el árbol\n",
    "\n",
    "tree2.toString();"
   ]
  },
  {
   "cell_type": "code",
   "execution_count": null,
   "metadata": {},
   "outputs": [],
   "source": [
    "tree2.printTree();"
   ]
  }
 ],
 "metadata": {
  "colab": {
   "provenance": []
  },
  "gpuClass": "standard",
  "kernelspec": {
   "display_name": "Java",
   "language": "java",
   "name": "java"
  },
  "language_info": {
   "codemirror_mode": "java",
   "file_extension": ".jshell",
   "mimetype": "text/x-java-source",
   "name": "java",
   "pygments_lexer": "java",
   "version": "23.0.1+11-39"
  }
 },
 "nbformat": 4,
 "nbformat_minor": 4
}

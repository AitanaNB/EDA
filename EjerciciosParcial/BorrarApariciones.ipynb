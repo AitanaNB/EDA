{
 "cells": [
  {
   "cell_type": "markdown",
   "metadata": {},
   "source": [
    "Borrar todas las apariciones"
   ]
  },
  {
   "cell_type": "code",
   "execution_count": 16,
   "metadata": {},
   "outputs": [],
   "source": [
    "public class Node<T> \n",
    "{\n",
    " T data;\n",
    " Node<T> next;\n",
    "\n",
    " public Node (T data)\n",
    " {\n",
    "     this.data=data;\n",
    " }\n",
    "}\n",
    "\n",
    "public class SimpleLinkedList<T> \n",
    "{\n",
    "    Node<T> first;\n",
    "\n",
    "    public void borrarTodasLasApariciones(T elem) \n",
    "    {\n",
    "    // Post: se ha eliminado “elem” de la lista\n",
    "        if(first==null)\n",
    "        {}\n",
    "        else\n",
    "        {\n",
    "            while (first != null && first.data.equals(elem)) \n",
    "            {\n",
    "                first = first.next; //ir avanzando el first\n",
    "            }\n",
    "            Node actual=first; //first no es el elem\n",
    "            while(actual!=null && actual.next !=null)\n",
    "            {\n",
    "                if(actual.next.data.equals(elem))\n",
    "                {\n",
    "                    actual.next=actual.next.next;\n",
    "                }\n",
    "                else\n",
    "                {\n",
    "                    actual=actual.next;\n",
    "                }\n",
    "            }\n",
    "        }\n",
    "    }\n",
    "\n",
    "    public void printList() \n",
    "    {\n",
    "        Node<T> current = first;\n",
    "        while (current != null) {\n",
    "            System.out.print(current.data + \" -> \");\n",
    "            current = current.next;\n",
    "        }\n",
    "        System.out.println(\"null\");\n",
    "    }\n",
    "}"
   ]
  },
  {
   "cell_type": "code",
   "execution_count": 17,
   "metadata": {},
   "outputs": [
    {
     "name": "stdout",
     "output_type": "stream",
     "text": [
      "Caso 1: Lista vacía\n",
      "null\n",
      "\n",
      "Caso 2: Lista con un solo elemento que coincide\n",
      "null\n",
      "\n",
      "Caso 3: Lista con múltiples ocurrencias de 5\n",
      "1 -> 3 -> null\n",
      "\n",
      "Caso 4: Lista sin ocurrencias de 5\n",
      "1 -> 2 -> 3 -> null\n"
     ]
    }
   ],
   "source": [
    "        SimpleLinkedList<Integer> lista1 = new SimpleLinkedList<>();\n",
    "        SimpleLinkedList<Integer> lista2 = new SimpleLinkedList<>();\n",
    "        SimpleLinkedList<Integer> lista3 = new SimpleLinkedList<>();\n",
    "        SimpleLinkedList<Integer> lista4 = new SimpleLinkedList<>();\n",
    "\n",
    "        // Caso 1: Lista vacía\n",
    "        System.out.println(\"Caso 1: Lista vacía\");\n",
    "        lista1.borrarTodasLasApariciones(5);\n",
    "        lista1.printList(); // Esperado: null\n",
    "\n",
    "        // Caso 2: Lista con un solo elemento que coincide\n",
    "        lista2.first = new Node(5);\n",
    "        System.out.println(\"\\nCaso 2: Lista con un solo elemento que coincide\");\n",
    "        lista2.borrarTodasLasApariciones(5);\n",
    "        lista2.printList(); // Esperado: null\n",
    "\n",
    "        // Caso 3: Lista con múltiples ocurrencias del elemento en distintos lugares\n",
    "        lista3.first = new Node(5);\n",
    "        lista3.first.next = new Node(1);\n",
    "        lista3.first.next.next = new Node(5);\n",
    "        lista3.first.next.next.next = new Node(3);\n",
    "        lista3.first.next.next.next.next = new Node(5);\n",
    "        System.out.println(\"\\nCaso 3: Lista con múltiples ocurrencias de 5\");\n",
    "        lista3.borrarTodasLasApariciones(5);\n",
    "        lista3.printList(); // Esperado: 1 -> 3 -> null\n",
    "\n",
    "        // Caso 4: Lista sin ocurrencias del elemento\n",
    "        lista4.first = new Node(1);\n",
    "        lista4.first.next = new Node(2);\n",
    "        lista4.first.next.next = new Node(3);\n",
    "        System.out.println(\"\\nCaso 4: Lista sin ocurrencias de 5\");\n",
    "        lista4.borrarTodasLasApariciones(5);\n",
    "        lista4.printList(); // Esperado: 1 -> 2 -> 3 -> null"
   ]
  }
 ],
 "metadata": {
  "kernelspec": {
   "display_name": "Java",
   "language": "java",
   "name": "java"
  },
  "language_info": {
   "codemirror_mode": "java",
   "file_extension": ".jshell",
   "mimetype": "text/x-java-source",
   "name": "java",
   "pygments_lexer": "java",
   "version": "21.0.4+7-LTS"
  }
 },
 "nbformat": 4,
 "nbformat_minor": 2
}
